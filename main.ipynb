{
 "cells": [
  {
   "cell_type": "code",
   "execution_count": 1,
   "metadata": {},
   "outputs": [
    {
     "name": "stderr",
     "output_type": "stream",
     "text": [
      "[nltk_data] Downloading package vader_lexicon to\n",
      "[nltk_data]     C:\\Users\\natal\\AppData\\Roaming\\nltk_data...\n"
     ]
    },
    {
     "name": "stdout",
     "output_type": "stream",
     "text": [
      "\n",
      "Análise das palavras-chave:\n",
      "'fãs': 5 ocorrência(s)\n",
      "'fã': 6 ocorrência(s)\n",
      "'tour': 1 ocorrência(s)\n",
      "'performance': 0 ocorrência(s)\n",
      "\n",
      "Sentimento do artigo: Positivo\n"
     ]
    }
   ],
   "source": [
    "import requests\n",
    "from bs4 import BeautifulSoup\n",
    "from nltk.sentiment import SentimentIntensityAnalyzer\n",
    "import nltk\n",
    "\n",
    "# Baixar os recursos necessários do nltk\n",
    "nltk.download('vader_lexicon')\n",
    "\n",
    "def extrair_texto(url):\n",
    "    try:\n",
    "        response = requests.get(url)\n",
    "        response.raise_for_status()\n",
    "        soup = BeautifulSoup(response.content, 'html.parser')\n",
    "        \n",
    "        # Extraindo texto do corpo do artigo\n",
    "        paragrafos = soup.find_all('p')\n",
    "        texto = ' '.join([paragrafo.get_text() for paragrafo in paragrafos])\n",
    "        return texto\n",
    "    except Exception as e:\n",
    "        print(f\"Erro ao acessar a URL: {e}\")\n",
    "        return None\n",
    "\n",
    "def analisar_palavras_chave(texto, palavras_chave):\n",
    "    palavras_encontradas = {palavra: texto.lower().count(palavra.lower()) for palavra in palavras_chave}\n",
    "    return palavras_encontradas\n",
    "\n",
    "def analisar_sentimento(texto):\n",
    "    sia = SentimentIntensityAnalyzer()\n",
    "    sentiment = sia.polarity_scores(texto)\n",
    "    if sentiment['compound'] >= 0.05:\n",
    "        return 'Positivo'\n",
    "    elif sentiment['compound'] <= -0.05:\n",
    "        return 'Negativo'\n",
    "    else:\n",
    "        return 'Neutro'\n",
    "\n",
    "def main():\n",
    "    url = input(\"Digite o link do site: \")\n",
    "    palavras_chave = input(\"Digite as palavras-chave separadas por vírgula: \").split(',')\n",
    "    \n",
    "    texto = extrair_texto(url)\n",
    "    \n",
    "    if texto:\n",
    "        palavras_encontradas = analisar_palavras_chave(texto, palavras_chave)\n",
    "        sentimento = analisar_sentimento(texto)\n",
    "        \n",
    "        print(f\"\\nAnálise das palavras-chave:\")\n",
    "        for palavra, contagem in palavras_encontradas.items():\n",
    "            print(f\"'{palavra}': {contagem} ocorrência(s)\")\n",
    "        \n",
    "        print(f\"\\nSentimento do artigo: {sentimento}\")\n",
    "    else:\n",
    "        print(\"Não foi possível extrair o texto do site.\")\n",
    "\n",
    "if __name__ == \"__main__\":\n",
    "    main()\n"
   ]
  }
 ],
 "metadata": {
  "kernelspec": {
   "display_name": "Python 3",
   "language": "python",
   "name": "python3"
  },
  "language_info": {
   "codemirror_mode": {
    "name": "ipython",
    "version": 3
   },
   "file_extension": ".py",
   "mimetype": "text/x-python",
   "name": "python",
   "nbconvert_exporter": "python",
   "pygments_lexer": "ipython3",
   "version": "3.12.3"
  }
 },
 "nbformat": 4,
 "nbformat_minor": 2
}
